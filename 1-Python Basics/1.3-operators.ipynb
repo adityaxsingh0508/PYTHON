{
 "cells": [
  {
   "cell_type": "code",
   "execution_count": null,
   "id": "45bf678c",
   "metadata": {},
   "outputs": [],
   "source": []
  },
  {
   "cell_type": "code",
   "execution_count": 3,
   "id": "9302659f",
   "metadata": {},
   "outputs": [
    {
     "name": "stdout",
     "output_type": "stream",
     "text": [
      "13\n",
      "7\n",
      "30\n",
      "3.3333333333333335\n",
      "3\n",
      "1\n",
      "1000\n"
     ]
    }
   ],
   "source": [
    "## Arithmetic Operations\n",
    "\n",
    "a=10\n",
    "b=3\n",
    "\n",
    "add_result=a+b\n",
    "sub_result=a-b\n",
    "mult_result=a*b\n",
    "div_result=a/b\n",
    "floor_div_result=a//b\n",
    "mod_result=a%b\n",
    "exp_result=a**b\n",
    "\n",
    "print(add_result)\n",
    "print(sub_result)\n",
    "print(mult_result)\n",
    "print(div_result)\n",
    "print(floor_div_result)\n",
    "print(mod_result)\n",
    "print(exp_result)"
   ]
  },
  {
   "cell_type": "code",
   "execution_count": 5,
   "id": "82982075",
   "metadata": {},
   "outputs": [
    {
     "data": {
      "text/plain": [
       "False"
      ]
     },
     "execution_count": 5,
     "metadata": {},
     "output_type": "execute_result"
    }
   ],
   "source": [
    "## Comparison Operators\n",
    "\n",
    "a=10\n",
    "b=20\n",
    "\n",
    "a==b  #equal to"
   ]
  },
  {
   "cell_type": "code",
   "execution_count": 6,
   "id": "76923414",
   "metadata": {},
   "outputs": [
    {
     "data": {
      "text/plain": [
       "False"
      ]
     },
     "execution_count": 6,
     "metadata": {},
     "output_type": "execute_result"
    }
   ],
   "source": [
    "# greater than\n",
    "a>b"
   ]
  },
  {
   "cell_type": "code",
   "execution_count": 7,
   "id": "231ab2d5",
   "metadata": {},
   "outputs": [
    {
     "data": {
      "text/plain": [
       "True"
      ]
     },
     "execution_count": 7,
     "metadata": {},
     "output_type": "execute_result"
    }
   ],
   "source": [
    "#less than\n",
    "a<b"
   ]
  },
  {
   "cell_type": "code",
   "execution_count": 10,
   "id": "e0328364",
   "metadata": {},
   "outputs": [
    {
     "name": "stdout",
     "output_type": "stream",
     "text": [
      "True\n"
     ]
    }
   ],
   "source": [
    "### Logical Operators\n",
    "## and,or,Not\n",
    "X=True\n",
    "Y=True\n",
    "\n",
    "result= X and Y\n",
    "print(result)\n"
   ]
  },
  {
   "cell_type": "code",
   "execution_count": null,
   "id": "cc64f8d0",
   "metadata": {},
   "outputs": [],
   "source": []
  }
 ],
 "metadata": {
  "kernelspec": {
   "display_name": "venv",
   "language": "python",
   "name": "python3"
  },
  "language_info": {
   "codemirror_mode": {
    "name": "ipython",
    "version": 3
   },
   "file_extension": ".py",
   "mimetype": "text/x-python",
   "name": "python",
   "nbconvert_exporter": "python",
   "pygments_lexer": "ipython3",
   "version": "3.12.0"
  }
 },
 "nbformat": 4,
 "nbformat_minor": 5
}
