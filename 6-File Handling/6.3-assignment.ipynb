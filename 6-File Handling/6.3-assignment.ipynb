{
 "cells": [
  {
   "cell_type": "markdown",
   "id": "30e28aca",
   "metadata": {},
   "source": [
    "##Assignment 1"
   ]
  },
  {
   "cell_type": "code",
   "execution_count": 4,
   "id": "81c9a375",
   "metadata": {},
   "outputs": [
    {
     "name": "stdout",
     "output_type": "stream",
     "text": [
      "Hello\n",
      "How are you ??\n",
      "Welcome to my Git\n"
     ]
    }
   ],
   "source": [
    "with open('sample.txt', 'r') as file:\n",
    "    for line in file:\n",
    "        print(line.strip())"
   ]
  },
  {
   "cell_type": "markdown",
   "id": "59bd1629",
   "metadata": {},
   "source": [
    "##Assignment 2"
   ]
  },
  {
   "cell_type": "code",
   "execution_count": 5,
   "id": "31e7552a",
   "metadata": {},
   "outputs": [],
   "source": [
    "with open('output.txt', 'w') as file:\n",
    "    file.write(\"This is a sample output file.\\n\")\n",
    "    file.write(\"It contains multiple lines of text.\\n\")\n"
   ]
  },
  {
   "cell_type": "markdown",
   "id": "f71dd091",
   "metadata": {},
   "source": [
    "##Assignment 3"
   ]
  },
  {
   "cell_type": "code",
   "execution_count": 8,
   "id": "b865acdf",
   "metadata": {},
   "outputs": [],
   "source": [
    "with open('sample.txt', 'r') as source_file:\n",
    "    content = source_file.read()\n",
    "\n",
    "with open('destination1.txt', 'w') as dest_file:\n",
    "    dest_file.write(content)"
   ]
  },
  {
   "cell_type": "markdown",
   "id": "43189372",
   "metadata": {},
   "source": [
    "##Assignment 4"
   ]
  },
  {
   "cell_type": "code",
   "execution_count": 9,
   "id": "2fd3b396",
   "metadata": {},
   "outputs": [],
   "source": [
    "with open('sample.txt', 'a') as file:\n",
    "    file.write(\"Appending a new line to the file.\\n\")"
   ]
  },
  {
   "cell_type": "markdown",
   "id": "f3063e49",
   "metadata": {},
   "source": [
    "##Assignment 5"
   ]
  },
  {
   "cell_type": "code",
   "execution_count": 10,
   "id": "5f57b491",
   "metadata": {},
   "outputs": [
    {
     "name": "stdout",
     "output_type": "stream",
     "text": [
      "Lines: 2\n"
     ]
    }
   ],
   "source": [
    "def count_file_stats(file_path):\n",
    "    with open(file_path, 'r') as file:\n",
    "        content = file.read()\n",
    "        lines = content.splitlines()\n",
    "        num_lines = len(lines)\n",
    "        \n",
    "    return num_lines\n",
    "file_path = 'example.txt'\n",
    "lines = count_file_stats(file_path)\n",
    "print(f\"Lines: {lines}\")"
   ]
  },
  {
   "cell_type": "markdown",
   "id": "605c47b3",
   "metadata": {},
   "source": [
    "##Assignment 6"
   ]
  },
  {
   "cell_type": "code",
   "execution_count": 27,
   "id": "28643ed2",
   "metadata": {},
   "outputs": [],
   "source": [
    "def find_and_replace(filename, old_word, new_word):\n",
    "    with open(filename, 'r') as file:\n",
    "        text = file.read()\n",
    "\n",
    "    new_text = text.replace(old_word, new_word)\n",
    "\n",
    "    with open(filename, 'w') as file:\n",
    "        file.write(new_text)\n",
    "find_and_replace('sample.txt', 'Hello', 'Hi')\n"
   ]
  },
  {
   "cell_type": "markdown",
   "id": "04d45715",
   "metadata": {},
   "source": [
    "##Assignment 7"
   ]
  },
  {
   "cell_type": "code",
   "execution_count": 26,
   "id": "71ccca24",
   "metadata": {},
   "outputs": [
    {
     "name": "stdout",
     "output_type": "stream",
     "text": [
      "Welcome to my GitAppending a new line to the file.\n",
      "How are you ??\n",
      "Hello\n"
     ]
    }
   ],
   "source": [
    "def read_reverse(filename):\n",
    "    with open(filename, 'r') as file:\n",
    "        lines = file.readlines()\n",
    "    for line in reversed(lines):\n",
    "        print(line.strip())\n",
    "read_reverse('sample.txt')\n"
   ]
  },
  {
   "cell_type": "markdown",
   "id": "7289b75f",
   "metadata": {},
   "source": [
    "##Assignment 8"
   ]
  },
  {
   "cell_type": "code",
   "execution_count": 28,
   "id": "9dac8507",
   "metadata": {},
   "outputs": [
    {
     "name": "stdout",
     "output_type": "stream",
     "text": [
      "Lines: 3, Words: 15, Characters: 69\n"
     ]
    }
   ],
   "source": [
    "def count_file_stats(file_path):\n",
    "    with open(file_path, 'r') as file:\n",
    "        content = file.read()\n",
    "        lines = content.splitlines()\n",
    "        num_lines = len(lines)\n",
    "        num_words = len(content.split())\n",
    "        num_chars = len(content)\n",
    "        \n",
    "    return num_lines, num_words, num_chars\n",
    "file_path = 'sample.txt'\n",
    "lines, words, chars = count_file_stats(file_path)\n",
    "print(f\"Lines: {lines}, Words: {words}, Characters: {chars}\")"
   ]
  },
  {
   "cell_type": "markdown",
   "id": "8e41ad88",
   "metadata": {},
   "source": [
    "##Assignment 9"
   ]
  },
  {
   "cell_type": "code",
   "execution_count": 29,
   "id": "991d0e8b",
   "metadata": {},
   "outputs": [],
   "source": [
    "def merge_files(file_list, output_file):\n",
    "    with open(output_file, 'w') as outfile:\n",
    "        for fname in file_list:\n",
    "            with open(fname, 'r') as infile:\n",
    "                outfile.write(infile.read() + '\\n')\n",
    "\n",
    "merge_files(['sample.txt', 'example.txt'], 'merged.txt')"
   ]
  },
  {
   "cell_type": "markdown",
   "id": "e7edfa2d",
   "metadata": {},
   "source": [
    "##Assignment 10"
   ]
  },
  {
   "cell_type": "code",
   "execution_count": 32,
   "id": "babfbc34",
   "metadata": {},
   "outputs": [],
   "source": [
    "def split_file(filename, lines_per_file):\n",
    "    with open(filename, 'r') as file:\n",
    "        lines = file.readlines()\n",
    "    for i in range(0, len(lines), lines_per_file):\n",
    "        with open(f'{filename}_part{i//lines_per_file + 1}.txt', 'w') as part_file:\n",
    "            part_file.writelines(lines[i:i + lines_per_file])\n",
    "\n",
    "split_file('merged.txt', 3)"
   ]
  },
  {
   "cell_type": "markdown",
   "id": "36f4629b",
   "metadata": {},
   "source": [
    "##Assignment 11"
   ]
  },
  {
   "cell_type": "code",
   "execution_count": 33,
   "id": "1b389935",
   "metadata": {},
   "outputs": [],
   "source": [
    "import datetime\n",
    "\n",
    "def log_message(message, filename='activity.log'):\n",
    "    timestamp = datetime.datetime.now().isoformat()\n",
    "    with open(filename, 'a') as file:\n",
    "        file.write(f'[{timestamp}] {message}\\n')\n",
    "\n",
    "log_message('This is a log message.')"
   ]
  },
  {
   "cell_type": "markdown",
   "id": "38706523",
   "metadata": {},
   "source": [
    "##Asignment 12"
   ]
  },
  {
   "cell_type": "code",
   "execution_count": 35,
   "id": "c83dadb5",
   "metadata": {},
   "outputs": [],
   "source": [
    "def copy_binary_file(source, destination):\n",
    "    with open(source, 'rb') as src:\n",
    "        with open(destination, 'wb') as dest:\n",
    "            dest.write(src.read())\n",
    "\n",
    "copy_binary_file('example.bin', 'copy_example.bin')"
   ]
  },
  {
   "cell_type": "markdown",
   "id": "adeccc24",
   "metadata": {},
   "source": [
    "##Assignment 13"
   ]
  },
  {
   "cell_type": "code",
   "execution_count": 38,
   "id": "8a03b113",
   "metadata": {},
   "outputs": [
    {
     "name": "stdout",
     "output_type": "stream",
     "text": [
      "['Name', 'Age', 'City']\n",
      "['Alice', '30', 'New York']\n",
      "['Bob', '25', 'Los Angeles']\n"
     ]
    }
   ],
   "source": [
    "import csv\n",
    "with open('example1.csv',mode='w',newline='') as file:\n",
    "    writer=csv.writer(file)\n",
    "    writer.writerow(['Name','Age','City'])\n",
    "    writer.writerow(['Alice',30,'New York'])\n",
    "    writer.writerow(['Bob',25,'Los Angeles'])\n",
    "\n",
    "with open('example1.csv',mode='r') as file:\n",
    "    reader=csv.reader(file)\n",
    "    for row in reader:\n",
    "        print(row)\n"
   ]
  },
  {
   "cell_type": "markdown",
   "id": "bf93b93a",
   "metadata": {},
   "source": [
    "##Assignment 14"
   ]
  },
  {
   "cell_type": "code",
   "execution_count": 39,
   "id": "8a52c747",
   "metadata": {},
   "outputs": [],
   "source": [
    "import json\n",
    "\n",
    "def read_json(filename):\n",
    "    with open(filename, 'r') as file:\n",
    "        data = json.load(file)\n",
    "        return data\n",
    "\n",
    "# Test\n",
    "# print(read_json('data.json'))"
   ]
  },
  {
   "cell_type": "markdown",
   "id": "7a557d27",
   "metadata": {},
   "source": [
    "##Assignment 15"
   ]
  },
  {
   "cell_type": "code",
   "execution_count": 40,
   "id": "f0fa51b0",
   "metadata": {},
   "outputs": [],
   "source": [
    "def read_protected_file(filename):\n",
    "    try:\n",
    "        with open(filename, 'r') as file:\n",
    "            print(file.read())\n",
    "    except PermissionError as e:\n",
    "        print(f\"Permission error: {e}\")\n",
    "\n",
    "# Test\n",
    "# read_protected_file('protected.txt')"
   ]
  }
 ],
 "metadata": {
  "kernelspec": {
   "display_name": "venv (3.13.5)",
   "language": "python",
   "name": "python3"
  },
  "language_info": {
   "codemirror_mode": {
    "name": "ipython",
    "version": 3
   },
   "file_extension": ".py",
   "mimetype": "text/x-python",
   "name": "python",
   "nbconvert_exporter": "python",
   "pygments_lexer": "ipython3",
   "version": "3.13.5"
  }
 },
 "nbformat": 4,
 "nbformat_minor": 5
}
