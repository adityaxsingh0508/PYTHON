{
 "cells": [
  {
   "cell_type": "markdown",
   "id": "4a3aa04a",
   "metadata": {},
   "source": [
    "## File Operation-Read and write files"
   ]
  },
  {
   "cell_type": "markdown",
   "id": "e7911a37",
   "metadata": {},
   "source": [
    "##File handling is a crucial part of any programming laguage.Python provides built-in functions and methods to read from and write to fles,both text and binary.This lesson will cover the basics of file handling including reading aand writing text files and binary files"
   ]
  },
  {
   "cell_type": "code",
   "execution_count": 2,
   "id": "2650c164",
   "metadata": {},
   "outputs": [
    {
     "name": "stdout",
     "output_type": "stream",
     "text": [
      "Hello\n",
      "How are you\n",
      "My Name is Aditya\n",
      "Welcome to my Git\n"
     ]
    }
   ],
   "source": [
    "## Read a Whole File\n",
    "\n",
    "with open('example.txt', 'r') as file:\n",
    "    content = file.read()\n",
    "    print(content)"
   ]
  },
  {
   "cell_type": "code",
   "execution_count": 3,
   "id": "6c690ee0",
   "metadata": {},
   "outputs": [
    {
     "name": "stdout",
     "output_type": "stream",
     "text": [
      "Hello\n",
      "How are you\n",
      "My Name is Aditya\n",
      "Welcome to my Git\n"
     ]
    }
   ],
   "source": [
    "## Read a FIle line by line\n",
    "with open('example.txt', 'r') as file:\n",
    "    for line in file:\n",
    "        print(line.strip())"
   ]
  },
  {
   "cell_type": "code",
   "execution_count": 5,
   "id": "98424e8f",
   "metadata": {},
   "outputs": [],
   "source": [
    "## Writing a file(overwriting)\n",
    "with open('example.txt', 'w') as file:\n",
    "    file.write(\"This is a new line.\\n\")"
   ]
  },
  {
   "cell_type": "code",
   "execution_count": 7,
   "id": "e56b0650",
   "metadata": {},
   "outputs": [],
   "source": [
    "## Writing a file(without overwriting)\n",
    "with open('example.txt', 'a') as file:\n",
    "    file.write(\"Hello world!\\n\")\n",
    "    file.write(\"Writing a file in Python is easy!\\n\")\n"
   ]
  },
  {
   "cell_type": "code",
   "execution_count": 8,
   "id": "915253c5",
   "metadata": {},
   "outputs": [],
   "source": [
    "## Writing a file\n",
    "with open('output.txt', 'w') as file:\n",
    "    file.write(\"This is a new line.\\n\")\n",
    "    file.write(\"Writing to a file in Python is easy!\\n\")"
   ]
  },
  {
   "cell_type": "code",
   "execution_count": 9,
   "id": "005b1b93",
   "metadata": {},
   "outputs": [],
   "source": [
    "## writing a list of lines to a file\n",
    "lines = [\"First line\\n\", \"Second line\\n\", \"Third line\\n\"]\n",
    "with open('example.txt', 'a') as file:\n",
    "    file.writelines(lines)"
   ]
  },
  {
   "cell_type": "code",
   "execution_count": 11,
   "id": "9d7e3bb0",
   "metadata": {},
   "outputs": [],
   "source": [
    "## Binary files\n",
    "#Writing\n",
    "data = b'\\x00\\x01\\x02\\x03\\x04\\x05\\x06\\x07\\x08\\x09'\n",
    "with open('example.bin', 'wb') as file:\n",
    "    file.write(data)"
   ]
  },
  {
   "cell_type": "code",
   "execution_count": 12,
   "id": "89c3a5f5",
   "metadata": {},
   "outputs": [
    {
     "name": "stdout",
     "output_type": "stream",
     "text": [
      "b'\\x00\\x01\\x02\\x03\\x04\\x05\\x06\\x07\\x08\\t'\n"
     ]
    }
   ],
   "source": [
    "#reading a binary file\n",
    "with open('example.bin', 'rb') as file:\n",
    "    binary_content = file.read()\n",
    "    print(binary_content)"
   ]
  },
  {
   "cell_type": "code",
   "execution_count": 13,
   "id": "8bd642d6",
   "metadata": {},
   "outputs": [],
   "source": [
    "## read the content from souce text file and write to a destination text file\n",
    "## Copy content from one file to another\n",
    "with open('example.txt', 'r') as source_file:\n",
    "    content = source_file.read()\n",
    "\n",
    "with open('destination.txt', 'w') as dest_file:\n",
    "    dest_file.write(content)"
   ]
  },
  {
   "cell_type": "code",
   "execution_count": 14,
   "id": "b5107c59",
   "metadata": {},
   "outputs": [
    {
     "name": "stdout",
     "output_type": "stream",
     "text": [
      "Lines: 6, Words: 20, Characters: 101\n"
     ]
    }
   ],
   "source": [
    "## Read a text fileand cont the number of lines, words, and characters\n",
    "def count_file_stats(file_path):\n",
    "    with open(file_path, 'r') as file:\n",
    "        content = file.read()\n",
    "        lines = content.splitlines()\n",
    "        num_lines = len(lines)\n",
    "        num_words = len(content.split())\n",
    "        num_chars = len(content)\n",
    "        \n",
    "    return num_lines, num_words, num_chars\n",
    "file_path = 'example.txt'\n",
    "lines, words, chars = count_file_stats(file_path)\n",
    "print(f\"Lines: {lines}, Words: {words}, Characters: {chars}\")"
   ]
  },
  {
   "cell_type": "code",
   "execution_count": 15,
   "id": "59de91b4",
   "metadata": {},
   "outputs": [
    {
     "name": "stdout",
     "output_type": "stream",
     "text": [
      "This is a new line.\n",
      "Writing to a file in Python is easy!\n",
      "\n"
     ]
    }
   ],
   "source": [
    "## writing and then reading a file\n",
    "\n",
    "with open('example.txt', 'w+') as file:\n",
    "    file.write(\"This is a new line.\\n\")\n",
    "    file.write(\"Writing to a file in Python is easy!\\n\")\n",
    "    file.seek(0)  # Move the cursor back to the beginning of the file\n",
    "    content = file.read()\n",
    "    print(content)"
   ]
  },
  {
   "cell_type": "code",
   "execution_count": null,
   "id": "f97f705f",
   "metadata": {},
   "outputs": [],
   "source": []
  }
 ],
 "metadata": {
  "kernelspec": {
   "display_name": "venv (3.13.5)",
   "language": "python",
   "name": "python3"
  },
  "language_info": {
   "codemirror_mode": {
    "name": "ipython",
    "version": 3
   },
   "file_extension": ".py",
   "mimetype": "text/x-python",
   "name": "python",
   "nbconvert_exporter": "python",
   "pygments_lexer": "ipython3",
   "version": "3.13.5"
  }
 },
 "nbformat": 4,
 "nbformat_minor": 5
}
