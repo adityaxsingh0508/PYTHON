{
 "cells": [
  {
   "cell_type": "markdown",
   "id": "f811ca5c",
   "metadata": {},
   "source": [
    "The filter() Function in Python"
   ]
  },
  {
   "cell_type": "markdown",
   "id": "63966444",
   "metadata": {},
   "source": [
    "It constructs an iterator from elements of an iterable for which a function returns true.it is used to filter out items from a list(or any other iterable) based on a condition."
   ]
  },
  {
   "cell_type": "code",
   "execution_count": 2,
   "id": "5aef8327",
   "metadata": {},
   "outputs": [
    {
     "data": {
      "text/plain": [
       "True"
      ]
     },
     "execution_count": 2,
     "metadata": {},
     "output_type": "execute_result"
    }
   ],
   "source": [
    "def even(num):\n",
    "   if num%2==0:\n",
    "    return True \n",
    "\n",
    "even(24)"
   ]
  },
  {
   "cell_type": "code",
   "execution_count": 3,
   "id": "aa7c0947",
   "metadata": {},
   "outputs": [
    {
     "data": {
      "text/plain": [
       "[2, 4, 6, 8, 10, 12]"
      ]
     },
     "execution_count": 3,
     "metadata": {},
     "output_type": "execute_result"
    }
   ],
   "source": [
    "lst=[1,2,3,4,5,6,7,8,9,10,11,12]\n",
    "list(filter(even,lst))"
   ]
  },
  {
   "cell_type": "code",
   "execution_count": 4,
   "id": "6a664a4d",
   "metadata": {},
   "outputs": [
    {
     "name": "stdout",
     "output_type": "stream",
     "text": [
      "[6, 7, 8, 9, 10, 11, 12]\n"
     ]
    }
   ],
   "source": [
    "##filer with a lambda function\n",
    "numbers=[1,2,3,4,5,6,7,8,9,10,11,12]\n",
    "greater_than_five=list(filter(lambda x:x>5,numbers))\n",
    "print(greater_than_five)"
   ]
  },
  {
   "cell_type": "code",
   "execution_count": 5,
   "id": "1457e0b2",
   "metadata": {},
   "outputs": [
    {
     "name": "stdout",
     "output_type": "stream",
     "text": [
      "[6, 8, 10, 12]\n"
     ]
    }
   ],
   "source": [
    "##filer with a lambda function and multiple condition\n",
    "numbers=[1,2,3,4,5,6,7,8,9,10,11,12]\n",
    "even_and_greater_than_five=list(filter(lambda x:x>5 and x%2==0,numbers))\n",
    "print(even_and_greater_than_five)"
   ]
  },
  {
   "cell_type": "code",
   "execution_count": 7,
   "id": "169d1592",
   "metadata": {},
   "outputs": [
    {
     "data": {
      "text/plain": [
       "[{'name': 'Dhananjay', 'age': 52}]"
      ]
     },
     "execution_count": 7,
     "metadata": {},
     "output_type": "execute_result"
    }
   ],
   "source": [
    "## filter() to check if the age is greater than 25 in dictionaries\n",
    "people=[\n",
    "    {'name':'Aditya','age':22},\n",
    "    {'name':'Karan','age':24},\n",
    "    {'name':'Dhananjay','age':52}\n",
    "]\n",
    "def age_greater_than_25(person):\n",
    "    return person['age']>25\n",
    "\n",
    "list(filter(age_greater_than_25,people))\n"
   ]
  }
 ],
 "metadata": {
  "kernelspec": {
   "display_name": "venv",
   "language": "python",
   "name": "python3"
  },
  "language_info": {
   "codemirror_mode": {
    "name": "ipython",
    "version": 3
   },
   "file_extension": ".py",
   "mimetype": "text/x-python",
   "name": "python",
   "nbconvert_exporter": "python",
   "pygments_lexer": "ipython3",
   "version": "3.12.0"
  }
 },
 "nbformat": 4,
 "nbformat_minor": 5
}
