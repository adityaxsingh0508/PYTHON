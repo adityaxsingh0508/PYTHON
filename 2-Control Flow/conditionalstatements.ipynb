{
 "cells": [
  {
   "cell_type": "code",
   "execution_count": null,
   "id": "7f1c711e",
   "metadata": {},
   "outputs": [],
   "source": []
  },
  {
   "cell_type": "code",
   "execution_count": 1,
   "id": "8c25613f",
   "metadata": {},
   "outputs": [
    {
     "name": "stdout",
     "output_type": "stream",
     "text": [
      "you are allowed to vote\n"
     ]
    }
   ],
   "source": [
    "## if statements\n",
    "x = 10\n",
    "if x > 5:\n",
    "    print(\"you are allowed to vote\")"
   ]
  },
  {
   "cell_type": "code",
   "execution_count": 5,
   "id": "be6db5ab",
   "metadata": {},
   "outputs": [
    {
     "name": "stdout",
     "output_type": "stream",
     "text": [
      "you are not eligible to vote\n"
     ]
    }
   ],
   "source": [
    "## else\n",
    "## The else statement executes a block of code if the condition in the if statement is false\n",
    "\n",
    "age=10\n",
    "if age>=18:\n",
    "    print(\"you are eligible to vote\")\n",
    "else:\n",
    "    print(\"you are not eligible to vote\")"
   ]
  },
  {
   "cell_type": "code",
   "execution_count": 7,
   "id": "b79a0f8d",
   "metadata": {},
   "outputs": [
    {
     "name": "stdout",
     "output_type": "stream",
     "text": [
      "you are a teenager\n"
     ]
    }
   ],
   "source": [
    "## eif\n",
    "## The elif statement is used to check multiple expressions for TRUE and execute a block of code as soon as one of the conditions evaluates to TRUE\n",
    "\n",
    "age=18\n",
    "if age<18:\n",
    "    print(\"you are a chikd\")\n",
    "elif age==18:\n",
    "    print(\"you are a teenager\")\n",
    "else:\n",
    "    print(\"you are an adult\")"
   ]
  },
  {
   "cell_type": "code",
   "execution_count": 8,
   "id": "96efc9b0",
   "metadata": {},
   "outputs": [
    {
     "name": "stdout",
     "output_type": "stream",
     "text": [
      "The number is negative\n"
     ]
    }
   ],
   "source": [
    "## Nested conditinal Statement\n",
    "## You can use one or more if statements inside another if statement. This is called a nested if statement.\n",
    "\n",
    "## number is even , odd ,Negative\n",
    "\n",
    "num=int(input(\"Enter a number:\"))\n",
    "if num>=0:\n",
    "    print(\"The number is positive\")\n",
    "    if num%2==0:\n",
    "        print(\"The number is even\")\n",
    "    else:\n",
    "        print(\"The number is odd\")\n",
    "else:\n",
    "    print(\"The number is negative\")"
   ]
  },
  {
   "cell_type": "code",
   "execution_count": 10,
   "id": "ef4890d5",
   "metadata": {},
   "outputs": [
    {
     "name": "stdout",
     "output_type": "stream",
     "text": [
      "2020 is a leap year\n"
     ]
    }
   ],
   "source": [
    "## Practice Problem\n",
    "\n",
    "## Determine if a year is a leap year or not\n",
    "year=int(input(\"Enter a year:\"))\n",
    "if year%4==0:\n",
    "    if year%100==0:\n",
    "        if year%400==0:\n",
    "            print(f\"{year} is a leap year\")\n",
    "        else:\n",
    "            print(f\"{year} is not a leap year\")\n",
    "    else:\n",
    "        print(f\"{year} is a leap year\")\n",
    "else:\n",
    "    print(f\"{year} is not a leap year\")"
   ]
  },
  {
   "cell_type": "code",
   "execution_count": null,
   "id": "dc121ee4",
   "metadata": {},
   "outputs": [],
   "source": []
  }
 ],
 "metadata": {
  "kernelspec": {
   "display_name": "venv",
   "language": "python",
   "name": "python3"
  },
  "language_info": {
   "codemirror_mode": {
    "name": "ipython",
    "version": 3
   },
   "file_extension": ".py",
   "mimetype": "text/x-python",
   "name": "python",
   "nbconvert_exporter": "python",
   "pygments_lexer": "ipython3",
   "version": "3.12.0"
  }
 },
 "nbformat": 4,
 "nbformat_minor": 5
}
