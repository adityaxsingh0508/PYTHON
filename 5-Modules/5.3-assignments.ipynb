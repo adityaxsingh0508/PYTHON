{
 "cells": [
  {
   "cell_type": "markdown",
   "id": "89cadf2b",
   "metadata": {},
   "source": [
    "##Assignment 1"
   ]
  },
  {
   "cell_type": "code",
   "execution_count": 5,
   "id": "35fa495b",
   "metadata": {},
   "outputs": [
    {
     "name": "stdout",
     "output_type": "stream",
     "text": [
      "5.0\n",
      "1.0\n"
     ]
    }
   ],
   "source": [
    "import math\n",
    "print(math.sqrt(25))\n",
    "print(math.sin(math.radians(90)))\n"
   ]
  },
  {
   "cell_type": "markdown",
   "id": "cdf61239",
   "metadata": {},
   "source": [
    "##Assignment 2"
   ]
  },
  {
   "cell_type": "code",
   "execution_count": 6,
   "id": "220a6293",
   "metadata": {},
   "outputs": [
    {
     "name": "stdout",
     "output_type": "stream",
     "text": [
      "2025-10-11 19:01:38.689088\n"
     ]
    }
   ],
   "source": [
    "import datetime\n",
    "print(datetime.datetime.now())"
   ]
  },
  {
   "cell_type": "markdown",
   "id": "425daa38",
   "metadata": {},
   "source": [
    "##Assignment 3"
   ]
  },
  {
   "cell_type": "code",
   "execution_count": 7,
   "id": "1e2341ac",
   "metadata": {},
   "outputs": [
    {
     "name": "stdout",
     "output_type": "stream",
     "text": [
      "89\n"
     ]
    }
   ],
   "source": [
    "from random import randint\n",
    "print(randint(1, 100))"
   ]
  },
  {
   "cell_type": "markdown",
   "id": "c80f2f13",
   "metadata": {},
   "source": [
    "##Assignment 4"
   ]
  },
  {
   "cell_type": "code",
   "execution_count": 8,
   "id": "d9ecd9bb",
   "metadata": {},
   "outputs": [
    {
     "name": "stdout",
     "output_type": "stream",
     "text": [
      "4.0\n",
      "8.0\n"
     ]
    }
   ],
   "source": [
    "from math import sqrt,pow\n",
    "print(sqrt(16))\n",
    "print(pow(2,3))"
   ]
  },
  {
   "cell_type": "markdown",
   "id": "b311450d",
   "metadata": {},
   "source": [
    "##Assignment 5"
   ]
  },
  {
   "cell_type": "code",
   "execution_count": 9,
   "id": "12acced2",
   "metadata": {},
   "outputs": [
    {
     "name": "stdout",
     "output_type": "stream",
     "text": [
      "Error: No module named 'non_existent_module'. Please ensure the module is installed.\n"
     ]
    }
   ],
   "source": [
    "try:\n",
    "    import non_existent_module\n",
    "except ImportError as e:\n",
    "    print(f\"Error: {e}. Please ensure the module is installed.\")"
   ]
  },
  {
   "cell_type": "markdown",
   "id": "9856fe56",
   "metadata": {},
   "source": [
    "##Assignment 6"
   ]
  },
  {
   "cell_type": "code",
   "execution_count": 15,
   "id": "23f1baf1",
   "metadata": {},
   "outputs": [
    {
     "name": "stdout",
     "output_type": "stream",
     "text": [
      "e:\\Code\\PYTHON\\5-Modules\n",
      "['5.1-import.ipynb', '5.2-Standardlibrary.ipynb', '5.3-assignments.ipynb', 'destination.txt', 'example.csv', 'new_directory', 'package', 'source.txt', 'test_directory']\n",
      "['5.1-import.ipynb', '5.2-Standardlibrary.ipynb', '5.3-assignments.ipynb', 'destination.txt', 'example.csv', 'package', 'source.txt', 'test_directory']\n"
     ]
    }
   ],
   "source": [
    "import os\n",
    "print(os.getcwd())\n",
    "os.mkdir('new_directory')\n",
    "print(os.listdir('.'))\n",
    "os.rmdir('new_directory')\n",
    "print(os.listdir('.'))"
   ]
  },
  {
   "cell_type": "markdown",
   "id": "0c7686bf",
   "metadata": {},
   "source": [
    "##Assignment 7"
   ]
  },
  {
   "cell_type": "code",
   "execution_count": 16,
   "id": "13911f09",
   "metadata": {},
   "outputs": [
    {
     "name": "stdout",
     "output_type": "stream",
     "text": [
      "Python version: 3.13.5 | packaged by Anaconda, Inc. | (main, Jun 12 2025, 16:37:03) [MSC v.1929 64 bit (AMD64)]\n",
      "Command line argumnets: ['e:\\\\Code\\\\PYTHON\\\\venv\\\\Lib\\\\site-packages\\\\ipykernel_launcher.py', '--f=c:\\\\Users\\\\ADITYA\\\\AppData\\\\Roaming\\\\jupyter\\\\runtime\\\\kernel-v311f47d932cc338b6dfd723b588eb04f7c9e914c5.json']\n"
     ]
    }
   ],
   "source": [
    "import sys\n",
    "print(f\"Python version: {sys.version}\")\n",
    "print(f\"Command line argumnets: {sys.argv}\")"
   ]
  },
  {
   "cell_type": "markdown",
   "id": "e4003e63",
   "metadata": {},
   "source": [
    "##Assignment 8"
   ]
  },
  {
   "cell_type": "code",
   "execution_count": 17,
   "id": "6b338386",
   "metadata": {},
   "outputs": [
    {
     "name": "stdout",
     "output_type": "stream",
     "text": [
      "6\n",
      "120\n"
     ]
    }
   ],
   "source": [
    "import math\n",
    "\n",
    "print(math.gcd(48, 18))\n",
    "print(math.factorial(5))"
   ]
  },
  {
   "cell_type": "markdown",
   "id": "bd91b7e1",
   "metadata": {},
   "source": [
    "##Assignment 9"
   ]
  },
  {
   "cell_type": "code",
   "execution_count": 20,
   "id": "39483228",
   "metadata": {},
   "outputs": [
    {
     "name": "stdout",
     "output_type": "stream",
     "text": [
      "Today's date is: 2025-10-11\n",
      "Date after 100 days will be: 2026-01-19\n",
      "Day of the week after 100 days will be: Monday\n"
     ]
    }
   ],
   "source": [
    "import datetime\n",
    "today = datetime.date.today()\n",
    "print(f\"Today's date is: {today}\")\n",
    "\n",
    "## 100 days from Current date\n",
    "future_date = today + datetime.timedelta(days=100)\n",
    "print(f\"Date after 100 days will be: {future_date}\")\n",
    "future_day = future_date.strftime(\"%A\")\n",
    "print(f\"Day of the week after 100 days will be: {future_day}\")"
   ]
  },
  {
   "cell_type": "markdown",
   "id": "658af52e",
   "metadata": {},
   "source": [
    "##Assignment 10"
   ]
  },
  {
   "cell_type": "code",
   "execution_count": 21,
   "id": "8dbbfec8",
   "metadata": {},
   "outputs": [
    {
     "name": "stdout",
     "output_type": "stream",
     "text": [
      "[30, 6, 22, 16, 46]\n",
      "[4, 3, 2, 5, 1]\n"
     ]
    }
   ],
   "source": [
    "import random\n",
    "\n",
    "random_numbers = [random.randint(1, 50) for _ in range(5)]\n",
    "print(random_numbers)\n",
    "\n",
    "lst=[1,2,3,4,5]\n",
    "random.shuffle(lst)\n",
    "print(lst)\n",
    "\n"
   ]
  },
  {
   "cell_type": "markdown",
   "id": "f8e4d57b",
   "metadata": {},
   "source": [
    "##Assignment 11"
   ]
  },
  {
   "cell_type": "code",
   "execution_count": 22,
   "id": "01f57879",
   "metadata": {},
   "outputs": [
    {
     "name": "stdout",
     "output_type": "stream",
     "text": [
      "8\n",
      "24\n"
     ]
    }
   ],
   "source": [
    "from mypackage import module1, module2\n",
    "\n",
    "print(module1.add(3, 5))\n",
    "print(module2.multiply(4, 6))"
   ]
  },
  {
   "cell_type": "markdown",
   "id": "8dc051ee",
   "metadata": {},
   "source": [
    "##Assignment 12"
   ]
  },
  {
   "cell_type": "code",
   "execution_count": 29,
   "id": "c8408bad",
   "metadata": {},
   "outputs": [
    {
     "ename": "ImportError",
     "evalue": "cannot import name 'add' from 'mypackage' (e:\\Code\\PYTHON\\5-Modules\\mypackage\\__init__.py)",
     "output_type": "error",
     "traceback": [
      "\u001b[31m---------------------------------------------------------------------------\u001b[39m",
      "\u001b[31mImportError\u001b[39m                               Traceback (most recent call last)",
      "\u001b[36mCell\u001b[39m\u001b[36m \u001b[39m\u001b[32mIn[29]\u001b[39m\u001b[32m, line 1\u001b[39m\n\u001b[32m----> \u001b[39m\u001b[32m1\u001b[39m \u001b[38;5;28;01mfrom\u001b[39;00m\u001b[38;5;250m \u001b[39m\u001b[34;01mmypackage\u001b[39;00m\u001b[38;5;250m \u001b[39m\u001b[38;5;28;01mimport\u001b[39;00m add, multiply\n\u001b[32m      3\u001b[39m \u001b[38;5;28mprint\u001b[39m(add(\u001b[32m2\u001b[39m, \u001b[32m3\u001b[39m))       \u001b[38;5;66;03m# Output: 5\u001b[39;00m\n\u001b[32m      4\u001b[39m \u001b[38;5;28mprint\u001b[39m(multiply(\u001b[32m2\u001b[39m, \u001b[32m3\u001b[39m))  \u001b[38;5;66;03m# Output: 6\u001b[39;00m\n",
      "\u001b[31mImportError\u001b[39m: cannot import name 'add' from 'mypackage' (e:\\Code\\PYTHON\\5-Modules\\mypackage\\__init__.py)"
     ]
    }
   ],
   "source": [
    "from mypackage import add, multiply\n",
    "\n",
    "print(add(2, 3))       # Output: 5\n",
    "print(multiply(2, 3))  # Output: 6\n",
    "\n"
   ]
  },
  {
   "cell_type": "markdown",
   "id": "7e51cbb3",
   "metadata": {},
   "source": [
    "##Assignment 13"
   ]
  },
  {
   "cell_type": "code",
   "execution_count": 28,
   "id": "a85b9228",
   "metadata": {},
   "outputs": [
    {
     "ename": "ImportError",
     "evalue": "cannot import name 'add' from 'mypackage' (e:\\Code\\PYTHON\\5-Modules\\mypackage\\__init__.py)",
     "output_type": "error",
     "traceback": [
      "\u001b[31m---------------------------------------------------------------------------\u001b[39m",
      "\u001b[31mImportError\u001b[39m                               Traceback (most recent call last)",
      "\u001b[36mCell\u001b[39m\u001b[36m \u001b[39m\u001b[32mIn[28]\u001b[39m\u001b[32m, line 1\u001b[39m\n\u001b[32m----> \u001b[39m\u001b[32m1\u001b[39m \u001b[38;5;28;01mfrom\u001b[39;00m\u001b[38;5;250m \u001b[39m\u001b[34;01mmypackage\u001b[39;00m\u001b[38;5;250m \u001b[39m\u001b[38;5;28;01mimport\u001b[39;00m add, multiply\n\u001b[32m      3\u001b[39m \u001b[38;5;28mprint\u001b[39m(add(\u001b[32m2\u001b[39m, \u001b[32m3\u001b[39m))  \u001b[38;5;66;03m# 5\u001b[39;00m\n\u001b[32m      4\u001b[39m \u001b[38;5;28mprint\u001b[39m(multiply(\u001b[32m2\u001b[39m, \u001b[32m3\u001b[39m))  \u001b[38;5;66;03m# 6\u001b[39;00m\n",
      "\u001b[31mImportError\u001b[39m: cannot import name 'add' from 'mypackage' (e:\\Code\\PYTHON\\5-Modules\\mypackage\\__init__.py)"
     ]
    }
   ],
   "source": [
    "from mypackage import add, multiply\n",
    "\n",
    "print(add(2, 3))  # 5\n",
    "print(multiply(2, 3))  # 6"
   ]
  },
  {
   "cell_type": "markdown",
   "id": "321bd86e",
   "metadata": {},
   "source": [
    "##Assigment 15"
   ]
  },
  {
   "cell_type": "code",
   "execution_count": 30,
   "id": "498bfaa2",
   "metadata": {},
   "outputs": [
    {
     "name": "stdout",
     "output_type": "stream",
     "text": [
      "Error importing function: cannot import name 'non_existent_function' from 'mypackage' (e:\\Code\\PYTHON\\5-Modules\\mypackage\\__init__.py)\n"
     ]
    }
   ],
   "source": [
    "try:\n",
    "    from mypackage import non_existent_function\n",
    "except ImportError as e:\n",
    "    print(f\"Error importing function: {e}\")"
   ]
  }
 ],
 "metadata": {
  "kernelspec": {
   "display_name": "venv (3.13.5)",
   "language": "python",
   "name": "python3"
  },
  "language_info": {
   "codemirror_mode": {
    "name": "ipython",
    "version": 3
   },
   "file_extension": ".py",
   "mimetype": "text/x-python",
   "name": "python",
   "nbconvert_exporter": "python",
   "pygments_lexer": "ipython3",
   "version": "3.13.5"
  }
 },
 "nbformat": 4,
 "nbformat_minor": 5
}
