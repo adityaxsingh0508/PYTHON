{
 "cells": [
  {
   "cell_type": "markdown",
   "id": "c3944fcc",
   "metadata": {},
   "source": [
    "##Assignment 1"
   ]
  },
  {
   "cell_type": "code",
   "execution_count": 4,
   "id": "659dd1e8",
   "metadata": {},
   "outputs": [
    {
     "name": "stdout",
     "output_type": "stream",
     "text": [
      "My car is a 2020 Toyota Corolla.\n"
     ]
    }
   ],
   "source": [
    "class Car:\n",
    "    def __init__(self, make, model, year):\n",
    "        self.make = make\n",
    "        self.model = model\n",
    "        self.year = year\n",
    "\n",
    "## Object instantiation\n",
    "my_car = Car(\"Toyota\", \"Corolla\", 2020)\n",
    "print(f\"My car is a {my_car.year} {my_car.make} {my_car.model}.\")"
   ]
  },
  {
   "cell_type": "markdown",
   "id": "3f3c73e7",
   "metadata": {},
   "source": [
    "##Assignment 2"
   ]
  },
  {
   "cell_type": "code",
   "execution_count": 5,
   "id": "7992411b",
   "metadata": {},
   "outputs": [
    {
     "name": "stdout",
     "output_type": "stream",
     "text": [
      "The engine of the 2020 Toyota Corolla is started.\n",
      "None\n"
     ]
    }
   ],
   "source": [
    "class Car:\n",
    "    def __init__(self, make, model, year):\n",
    "        self.make = make\n",
    "        self.model = model\n",
    "        self.year = year\n",
    "\n",
    "    # Method to display car details\n",
    "    def start_engine(self):\n",
    "        print(f\"The engine of the {self.year} {self.make} {self.model} is started.\")\n",
    "\n",
    "mycar = Car(\"Toyota\", \"Corolla\", 2020)\n",
    "print(mycar.start_engine())"
   ]
  },
  {
   "cell_type": "markdown",
   "id": "f5f01d68",
   "metadata": {},
   "source": [
    "##Assignment 3"
   ]
  },
  {
   "cell_type": "code",
   "execution_count": 6,
   "id": "254d30ca",
   "metadata": {},
   "outputs": [
    {
     "name": "stdout",
     "output_type": "stream",
     "text": [
      "Student Name: Alice, Age: 21\n"
     ]
    }
   ],
   "source": [
    "class Student:\n",
    "    def __init__(self, name, age):\n",
    "        self.name = name\n",
    "        self.age = age\n",
    "        \n",
    "\n",
    "    def display_info(self):\n",
    "        return f\"Student Name: {self.name}, Age: {self.age}\"\n",
    "\n",
    "student1 = Student(\"Alice\", 21)\n",
    "print(student1.display_info())"
   ]
  },
  {
   "cell_type": "markdown",
   "id": "4a9e9427",
   "metadata": {},
   "source": [
    "##Assignment 4"
   ]
  },
  {
   "cell_type": "code",
   "execution_count": 9,
   "id": "b8d329ce",
   "metadata": {},
   "outputs": [
    {
     "name": "stdout",
     "output_type": "stream",
     "text": [
      "Deposited 500. New balance is 1500.\n",
      "Withdrew 200. New balance is 1300.\n",
      "1300\n",
      "Insufficient funds or invalid amount.\n"
     ]
    }
   ],
   "source": [
    "class BankAccount:\n",
    "    def __init__(self, account_numnber, balance=0):\n",
    "        self.account_numnber = account_numnber\n",
    "        self.balance= balance\n",
    "    \n",
    "    def deposit(self, amount):\n",
    "        if amount>0:\n",
    "            self.balance+=amount\n",
    "            print(f\"Deposited {amount}. New balance is {self.balance}.\")\n",
    "        else:\n",
    "            print(\"Deposit amount must be positive.\")\n",
    "    \n",
    "    def withdraw(self,amount):\n",
    "        if amount>0 and amount<=self.balance:\n",
    "            self.balance-=amount\n",
    "            print(f\"Withdrew {amount}. New balance is {self.balance}.\")\n",
    "        else:\n",
    "            print(\"Insufficient funds or invalid amount.\")\n",
    "    \n",
    "    def get_balance(self):\n",
    "        return self.balance\n",
    "\n",
    "account = BankAccount('12345678', 1000)\n",
    "account.deposit(500)\n",
    "account.withdraw(200)\n",
    "print(account.get_balance())  # 1300\n",
    "account.withdraw(2000)  # Insufficient balance!"
   ]
  },
  {
   "cell_type": "markdown",
   "id": "0916a881",
   "metadata": {},
   "source": [
    "##Assignment 5"
   ]
  },
  {
   "cell_type": "code",
   "execution_count": null,
   "id": "28db5a42",
   "metadata": {},
   "outputs": [],
   "source": []
  }
 ],
 "metadata": {
  "kernelspec": {
   "display_name": "venv (3.13.5)",
   "language": "python",
   "name": "python3"
  },
  "language_info": {
   "codemirror_mode": {
    "name": "ipython",
    "version": 3
   },
   "file_extension": ".py",
   "mimetype": "text/x-python",
   "name": "python",
   "nbconvert_exporter": "python",
   "pygments_lexer": "ipython3",
   "version": "3.13.5"
  }
 },
 "nbformat": 4,
 "nbformat_minor": 5
}
