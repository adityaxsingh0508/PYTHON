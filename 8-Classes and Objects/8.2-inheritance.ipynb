{
 "cells": [
  {
   "cell_type": "markdown",
   "id": "c3bcd38f",
   "metadata": {},
   "source": [
    "## Inheritance in Python"
   ]
  },
  {
   "cell_type": "markdown",
   "id": "0ac2f71c",
   "metadata": {},
   "source": [
    "##Inheritance is a fundamental concept in (OOP) that allows a class to inherit sttributes and methods from anothr class.This lesson covers single inheritance and multiple inheritance, demonstrationg how to create and use them in Python."
   ]
  },
  {
   "cell_type": "code",
   "execution_count": 7,
   "id": "ca8989be",
   "metadata": {},
   "outputs": [],
   "source": [
    "## Single Inheritance in Python\n",
    "##Parent Class\n",
    "class Vehicle:\n",
    "    def __init__(self, make, model):\n",
    "        self.make = make\n",
    "        self.model = model\n",
    "\n",
    "    def drive(self):\n",
    "        print(f\"Vehicle Make: {self.make}, Model: {self.model}\")\n"
   ]
  },
  {
   "cell_type": "code",
   "execution_count": 8,
   "id": "92e31f73",
   "metadata": {},
   "outputs": [
    {
     "name": "stdout",
     "output_type": "stream",
     "text": [
      "Vehicle Make: Toyota, Model: Corolla\n"
     ]
    }
   ],
   "source": [
    "mycar=Vehicle(\"Toyota\",\"Corolla\")\n",
    "mycar.drive()"
   ]
  },
  {
   "cell_type": "code",
   "execution_count": 9,
   "id": "8752c494",
   "metadata": {},
   "outputs": [
    {
     "name": "stdout",
     "output_type": "stream",
     "text": [
      "Vehicle Make: Tesla, Model: Model S\n",
      "Tesla Make: Tesla, Model: Model S, Battery Size: 100 kWh\n"
     ]
    }
   ],
   "source": [
    "class Tesla(Vehicle):  # Child Class inheriting from Vehicle\n",
    "    def __init__(self, make, model, battery_size):\n",
    "        super().__init__(make, model)  # Initialize parent class attributes\n",
    "        self.battery_size = battery_size\n",
    "\n",
    "    def battery(self):\n",
    "        print(f\"Tesla Make: {self.make}, Model: {self.model}, Battery Size: {self.battery_size} kWh\")\n",
    "\n",
    "mytesla = Tesla(\"Tesla\", \"Model S\", 100)\n",
    "mytesla.drive()  # Inherited method\n",
    "mytesla.battery()  # Child class method"
   ]
  },
  {
   "cell_type": "code",
   "execution_count": 11,
   "id": "291b28a3",
   "metadata": {},
   "outputs": [
    {
     "name": "stdout",
     "output_type": "stream",
     "text": [
      "Buddy makes a sound\n",
      "This pet is owned by Alice\n",
      "Buddy is a Golden Retriever owned by Alice\n"
     ]
    }
   ],
   "source": [
    "## Multiple Inheritance in Python\n",
    "## WHen a class inherits from more than one parent class\n",
    "# BASE Class 1\n",
    "class Animal:\n",
    "    def __init__(self, name):\n",
    "        self.name = name\n",
    "    \n",
    "    def speak(self):\n",
    "        print(f\"{self.name} makes a sound\")\n",
    "\n",
    "# BASE Class 2\n",
    "class Pet:\n",
    "    def __init__(self, owner):\n",
    "        self.owner = owner\n",
    "    \n",
    "    def info(self):\n",
    "        print(f\"This pet is owned by {self.owner}\")\n",
    "\n",
    "# Derived Class inheriting from both Animal and Pet\n",
    "class Dog(Animal, Pet):\n",
    "    def __init__(self, name, owner, breed):\n",
    "        Animal.__init__(self, name)  # Initialize Animal part\n",
    "        Pet.__init__(self, owner)    # Initialize Pet part\n",
    "        self.breed = breed\n",
    "    \n",
    "    def details(self):\n",
    "        print(f\"{self.name} is a {self.breed} owned by {self.owner}\")\n",
    "\n",
    "mydog = Dog(\"Buddy\", \"Alice\", \"Golden Retriever\")\n",
    "mydog.speak()  # From Animal\n",
    "mydog.info()   # From Pet\n",
    "mydog.details()  # From Dog"
   ]
  },
  {
   "cell_type": "code",
   "execution_count": null,
   "id": "7149ca77",
   "metadata": {},
   "outputs": [],
   "source": []
  }
 ],
 "metadata": {
  "kernelspec": {
   "display_name": "venv (3.13.5)",
   "language": "python",
   "name": "python3"
  },
  "language_info": {
   "codemirror_mode": {
    "name": "ipython",
    "version": 3
   },
   "file_extension": ".py",
   "mimetype": "text/x-python",
   "name": "python",
   "nbconvert_exporter": "python",
   "pygments_lexer": "ipython3",
   "version": "3.13.5"
  }
 },
 "nbformat": 4,
 "nbformat_minor": 5
}
