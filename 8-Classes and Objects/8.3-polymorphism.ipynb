{
 "cells": [
  {
   "cell_type": "markdown",
   "id": "82f4ca67",
   "metadata": {},
   "source": [
    "## Polymorphism"
   ]
  },
  {
   "cell_type": "markdown",
   "id": "378d6b90",
   "metadata": {},
   "source": [
    "##It is a core concept in OOP that allows objects of differnet classes to be treated as objects of a common superclass.It provides  way to perform a single action in differnet forms.Polymorphism is typicaally achieved through method overriding and interfaces."
   ]
  },
  {
   "cell_type": "markdown",
   "id": "1ea4dc9e",
   "metadata": {},
   "source": [
    "## Method overwriting\n",
    "it allows a child class to provide a specific implementation of a method that is already defined in its parent class."
   ]
  },
  {
   "cell_type": "code",
   "execution_count": 2,
   "id": "039b2320",
   "metadata": {},
   "outputs": [
    {
     "name": "stdout",
     "output_type": "stream",
     "text": [
      "The dog barks\n",
      "The cat meows\n",
      "The dog barks\n"
     ]
    }
   ],
   "source": [
    "## Base class\n",
    "\n",
    "class Animal:\n",
    "    def speak(self):\n",
    "        return \"The animal makes a sound\"\n",
    "\n",
    "## Derived class Dog\n",
    "class Dog(Animal):\n",
    "    def speak(self):\n",
    "        return \"The dog barks\"  \n",
    "\n",
    "## Derived class Cat\n",
    "class Cat(Animal):\n",
    "    def speak(self):\n",
    "        return \"The cat meows\"\n",
    "\n",
    "## Function to demonstrate polymorphism\n",
    "def animal_sound(animal):\n",
    "    print(animal.speak())\n",
    "\n",
    "dog = Dog()\n",
    "cat = Cat()\n",
    "print(dog.speak())  # Output: The dog barks\n",
    "print(cat.speak())  # Output: The cat meows\n",
    "animal_sound(dog)  # Output: The dog barks"
   ]
  },
  {
   "cell_type": "code",
   "execution_count": 3,
   "id": "78f4161d",
   "metadata": {},
   "outputs": [
    {
     "name": "stdout",
     "output_type": "stream",
     "text": [
      "Area: 50\n",
      "Area: 153.86\n"
     ]
    }
   ],
   "source": [
    "## Polymorphism with functions and methods\n",
    "## Base class Shape\n",
    "class Shape:\n",
    "    def area(self):\n",
    "        return \"The area of the figure\"\n",
    "\n",
    "## Derived class Rectangle\n",
    "class Rectangle(Shape):\n",
    "    def __init__(self, width, height):\n",
    "        self.width = width\n",
    "        self.height = height\n",
    "\n",
    "    def area(self):\n",
    "        return self.width * self.height\n",
    "\n",
    "## Derived class Circle\n",
    "class Circle(Shape):\n",
    "    def __init__(self, radius):\n",
    "        self.radius = radius\n",
    "\n",
    "    def area(self):\n",
    "        return 3.14 * self.radius * self.radius\n",
    "\n",
    "## Function to demonstrate polymorphism\n",
    "def print_area(shape):\n",
    "    print(\"Area:\", shape.area())\n",
    "\n",
    "rectangle = Rectangle(5, 10)\n",
    "circle = Circle(7)\n",
    "print_area(rectangle)  # Output: Area: 50\n",
    "print_area(circle)     # Output: Area: 153.86"
   ]
  },
  {
   "cell_type": "markdown",
   "id": "ba20d4f6",
   "metadata": {},
   "source": [
    "## Polymorpbism with Abstract Base Classes (ABCs)"
   ]
  },
  {
   "cell_type": "markdown",
   "id": "bae577e9",
   "metadata": {},
   "source": [
    "##ABCs are used to define common methods for a group of related objects.They can enforce that derived classes implement particular methods,promoting consistency across differnt implemenations."
   ]
  },
  {
   "cell_type": "code",
   "execution_count": 4,
   "id": "789ee2c2",
   "metadata": {},
   "outputs": [
    {
     "name": "stdout",
     "output_type": "stream",
     "text": [
      "Car engine started\n",
      "Motorcycle engine started\n"
     ]
    }
   ],
   "source": [
    "from abc import ABC, abstractmethod\n",
    "## Abstract Base Class\n",
    "class Vehicle(ABC):\n",
    "    @abstractmethod\n",
    "    def start_engine(self):\n",
    "        pass\n",
    "\n",
    "## Derived class Car\n",
    "class Car(Vehicle):\n",
    "    def start_engine(self):\n",
    "        return \"Car engine started\"\n",
    "\n",
    "## Derived class Motorcycle\n",
    "class Motorcycle(Vehicle):\n",
    "    def start_engine(self):\n",
    "        return \"Motorcycle engine started\"\n",
    "\n",
    "## Function to demonstrate polymorphism\n",
    "def vehicle_start(vehicle):\n",
    "    print(vehicle.start_engine())\n",
    "\n",
    "car = Car()\n",
    "motorcycle = Motorcycle()\n",
    "vehicle_start(car)          # Output: Car engine started\n",
    "vehicle_start(motorcycle)   # Output: Motorcycle engine started"
   ]
  },
  {
   "cell_type": "code",
   "execution_count": null,
   "id": "88f1ed8c",
   "metadata": {},
   "outputs": [],
   "source": []
  }
 ],
 "metadata": {
  "kernelspec": {
   "display_name": "venv (3.13.5)",
   "language": "python",
   "name": "python3"
  },
  "language_info": {
   "codemirror_mode": {
    "name": "ipython",
    "version": 3
   },
   "file_extension": ".py",
   "mimetype": "text/x-python",
   "name": "python",
   "nbconvert_exporter": "python",
   "pygments_lexer": "ipython3",
   "version": "3.13.5"
  }
 },
 "nbformat": 4,
 "nbformat_minor": 5
}
