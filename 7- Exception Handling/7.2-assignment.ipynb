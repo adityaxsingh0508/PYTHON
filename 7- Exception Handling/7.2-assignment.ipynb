{
 "cells": [
  {
   "cell_type": "markdown",
   "id": "ce84183d",
   "metadata": {},
   "source": [
    "##Assignment 1"
   ]
  },
  {
   "cell_type": "code",
   "execution_count": 2,
   "id": "cb667872",
   "metadata": {},
   "outputs": [
    {
     "name": "stdout",
     "output_type": "stream",
     "text": [
      "Execution complete.\n",
      "5.0\n",
      "Error: division by zero\n",
      "Execution complete.\n",
      "None\n"
     ]
    }
   ],
   "source": [
    "def divide(a, b):\n",
    "    try:\n",
    "        result = a / b\n",
    "    except ZeroDivisionError as e:\n",
    "        print(f\"Error: {e}\")\n",
    "        result = None\n",
    "    finally:\n",
    "        print(\"Execution complete.\")\n",
    "    return result\n",
    "\n",
    "print(divide(10, 2))  # 5.0\n",
    "print(divide(10, 0))  # None"
   ]
  },
  {
   "cell_type": "markdown",
   "id": "55ac0861",
   "metadata": {},
   "source": [
    "##Assignment 2"
   ]
  },
  {
   "cell_type": "code",
   "execution_count": 3,
   "id": "e218aece",
   "metadata": {},
   "outputs": [
    {
     "name": "stdout",
     "output_type": "stream",
     "text": [
      "[Errno 2] No such file or directory: 'data.txt'\n",
      "The file does not exist\n"
     ]
    }
   ],
   "source": [
    "try:\n",
    "    file=open(\"data.txt\",\"r\")\n",
    "    data=file.read()\n",
    "    print(data)\n",
    "\n",
    "except FileNotFoundError as ex:\n",
    "    print(ex)\n",
    "    print(\"The file does not exist\")\n",
    "\n",
    "finally:\n",
    "    if 'file' in locals() and not closed():\n",
    "        file.close()\n",
    "        print(\"File is closed\")"
   ]
  },
  {
   "cell_type": "markdown",
   "id": "76f7d850",
   "metadata": {},
   "source": [
    "##Assignment 3"
   ]
  },
  {
   "cell_type": "code",
   "execution_count": 5,
   "id": "915c5222",
   "metadata": {},
   "outputs": [
    {
     "name": "stdout",
     "output_type": "stream",
     "text": [
      "Error: unsupported operand type(s) for +: 'int' and 'str'\n",
      "Sum operation attempted.\n",
      "0\n",
      "Sum operation attempted.\n",
      "10\n"
     ]
    }
   ],
   "source": [
    "def sum_list(lst):\n",
    "    total = 0\n",
    "    try:\n",
    "        return sum(lst)\n",
    "    except TypeError as e:\n",
    "        print(f\"Error: {e}\")\n",
    "    finally:\n",
    "        print(\"Sum operation attempted.\")\n",
    "    return total\n",
    "\n",
    "print(sum_list([1, 2, 3, 'a']))  # None\n",
    "print(sum_list([1, 2, 3, 4]))  # 10"
   ]
  },
  {
   "cell_type": "markdown",
   "id": "36fa6a9b",
   "metadata": {},
   "source": [
    "##Assignment 4"
   ]
  },
  {
   "cell_type": "code",
   "execution_count": 15,
   "id": "1809015d",
   "metadata": {},
   "outputs": [
    {
     "name": "stdout",
     "output_type": "stream",
     "text": [
      "The result is: 33\n",
      "Executed sucessfully\n"
     ]
    }
   ],
   "source": [
    "try:\n",
    "    num=int(input(\"Enter a number: \"))\n",
    "except ValueError:\n",
    "       print(\"This is not a valid number\")\n",
    "except Exception as ex:\n",
    "        print(ex)\n",
    "else:\n",
    "        print(\"The result is:\",num)\n",
    "finally:\n",
    "        print(\"Executed sucessfully\")"
   ]
  },
  {
   "cell_type": "markdown",
   "id": "e8ea7757",
   "metadata": {},
   "source": [
    "##Assignment 5"
   ]
  },
  {
   "cell_type": "code",
   "execution_count": 16,
   "id": "4dd9bd25",
   "metadata": {},
   "outputs": [
    {
     "name": "stdout",
     "output_type": "stream",
     "text": [
      "Execution complete.\n",
      "2\n",
      "Error: 'x'\n",
      "Execution complete.\n",
      "None\n"
     ]
    }
   ],
   "source": [
    "def get_dict_value(d, key):\n",
    "    try:\n",
    "        value = d[key]\n",
    "    except KeyError as e:\n",
    "        print(f\"Error: {e}\")\n",
    "        value = None\n",
    "    finally:\n",
    "        print(\"Execution complete.\")\n",
    "    return value\n",
    "\n",
    "d = {'a': 1, 'b': 2, 'c': 3}\n",
    "print(get_dict_value(d, 'b'))  # 2\n",
    "print(get_dict_value(d, 'x'))  # None"
   ]
  },
  {
   "cell_type": "markdown",
   "id": "1c722a56",
   "metadata": {},
   "source": [
    "##Assignment 6"
   ]
  },
  {
   "cell_type": "code",
   "execution_count": 17,
   "id": "57482519",
   "metadata": {},
   "outputs": [
    {
     "name": "stdout",
     "output_type": "stream",
     "text": [
      "Conversion attempt complete.\n",
      "Division error: division by zero\n",
      "Division attempt complete.\n",
      "Overall execution complete.\n",
      "None\n",
      "Conversion error: invalid literal for int() with base 10: 'a'\n",
      "Conversion attempt complete.\n",
      "Overall execution complete.\n",
      "None\n",
      "Conversion attempt complete.\n",
      "Division attempt complete.\n",
      "Overall execution complete.\n",
      "5.0\n"
     ]
    }
   ],
   "source": [
    "def nested_exception_handling(s):\n",
    "    try:\n",
    "        try:\n",
    "            num = int(s)\n",
    "        except ValueError as e:\n",
    "            print(f\"Conversion error: {e}\")\n",
    "            num = None\n",
    "        finally:\n",
    "            print(\"Conversion attempt complete.\")\n",
    "        if num is not None:\n",
    "            try:\n",
    "                result = 10 / num\n",
    "            except ZeroDivisionError as e:\n",
    "                print(f\"Division error: {e}\")\n",
    "                result = None\n",
    "            finally:\n",
    "                print(\"Division attempt complete.\")\n",
    "            return result\n",
    "    finally:\n",
    "        print(\"Overall execution complete.\")\n",
    "\n",
    "print(nested_exception_handling('0'))  # None\n",
    "print(nested_exception_handling('a'))  # None\n",
    "print(nested_exception_handling('2'))  # 5.0"
   ]
  },
  {
   "cell_type": "markdown",
   "id": "cfe8a59c",
   "metadata": {},
   "source": [
    "##Assignment 7"
   ]
  },
  {
   "cell_type": "code",
   "execution_count": 18,
   "id": "49d65642",
   "metadata": {},
   "outputs": [
    {
     "name": "stdout",
     "output_type": "stream",
     "text": [
      "Execution complete.\n",
      "3\n",
      "Error: list index out of range\n",
      "Execution complete.\n",
      "None\n"
     ]
    }
   ],
   "source": [
    "def get_list_element(lst, index):\n",
    "    try:\n",
    "        element = lst[index]\n",
    "    except IndexError as e:\n",
    "        print(f\"Error: {e}\")\n",
    "        element = None\n",
    "    finally:\n",
    "        print(\"Execution complete.\")\n",
    "    return element\n",
    "\n",
    "lst = [1, 2, 3, 4, 5]\n",
    "print(get_list_element(lst, 2))  # 3\n",
    "print(get_list_element(lst, 10))  # None"
   ]
  },
  {
   "cell_type": "markdown",
   "id": "b5e02d1d",
   "metadata": {},
   "source": [
    "##Assignment 8"
   ]
  },
  {
   "cell_type": "code",
   "execution_count": 20,
   "id": "7ef989b6",
   "metadata": {},
   "outputs": [
    {
     "name": "stdout",
     "output_type": "stream",
     "text": [
      "Execution complete.\n",
      "{\n",
      "  \"userId\": 1,\n",
      "  \"id\": 1,\n",
      "  \"title\": \"sunt aut facere repellat provident occaecati excepturi optio reprehenderit\",\n",
      "  \"body\": \"quia et suscipit\\nsuscipit recusandae consequuntur expedita et cum\\nreprehenderit molestiae ut ut quas totam\\nnostrum rerum est autem sunt rem eveniet architecto\"\n",
      "}\n",
      "Network error: HTTPSConnectionPool(host='nonexistent.url', port=443): Max retries exceeded with url: / (Caused by NameResolutionError(\"<urllib3.connection.HTTPSConnection object at 0x000001F6084E5F90>: Failed to resolve 'nonexistent.url' ([Errno 11001] getaddrinfo failed)\"))\n",
      "Execution complete.\n",
      "None\n"
     ]
    }
   ],
   "source": [
    "import requests\n",
    "def read_url(url):\n",
    "    try:\n",
    "        response = requests.get(url)\n",
    "        response.raise_for_status()\n",
    "        return response.text\n",
    "    except requests.RequestException as e:\n",
    "        print(f\"Network error: {e}\")\n",
    "        return None\n",
    "    finally:\n",
    "        print(\"Execution complete.\")\n",
    "\n",
    "print(read_url('https://jsonplaceholder.typicode.com/posts/1'))\n",
    "print(read_url('https://nonexistent.url'))"
   ]
  },
  {
   "cell_type": "markdown",
   "id": "a882f1c5",
   "metadata": {},
   "source": [
    "##Assignment 9"
   ]
  },
  {
   "cell_type": "code",
   "execution_count": 21,
   "id": "b1150fd2",
   "metadata": {},
   "outputs": [
    {
     "name": "stdout",
     "output_type": "stream",
     "text": [
      "Execution complete.\n",
      "{'name': 'John', 'age': 30}\n",
      "JSON error: Expecting value: line 1 column 1 (char 0)\n",
      "Execution complete.\n",
      "None\n"
     ]
    }
   ],
   "source": [
    "import json\n",
    "\n",
    "def parse_json(json_string):\n",
    "    try:\n",
    "        data = json.loads(json_string)\n",
    "        return data\n",
    "    except json.JSONDecodeError as e:\n",
    "        print(f\"JSON error: {e}\")\n",
    "        return None\n",
    "    finally:\n",
    "        print(\"Execution complete.\")\n",
    "\n",
    "print(parse_json('{\"name\": \"John\", \"age\": 30}'))  # {'name': 'John', 'age': 30}\n",
    "print(parse_json('Invalid JSON'))  # None"
   ]
  },
  {
   "cell_type": "markdown",
   "id": "20ebd3ed",
   "metadata": {},
   "source": [
    "##Assignment 10"
   ]
  },
  {
   "cell_type": "code",
   "execution_count": 22,
   "id": "8fb649a4",
   "metadata": {},
   "outputs": [
    {
     "name": "stdout",
     "output_type": "stream",
     "text": [
      "Error: Negative number found: -2\n",
      "Execution complete.\n",
      "Execution complete.\n"
     ]
    }
   ],
   "source": [
    "class NegativeNumberError(Exception):\n",
    "    pass\n",
    "\n",
    "def check_for_negatives(lst):\n",
    "    try:\n",
    "        for num in lst:\n",
    "            if num < 0:\n",
    "                raise NegativeNumberError(f\"Negative number found: {num}\")\n",
    "    except NegativeNumberError as e:\n",
    "        print(f\"Error: {e}\")\n",
    "    finally:\n",
    "        print(\"Execution complete.\")\n",
    "\n",
    "check_for_negatives([1, -2, 3, 4])  # Error: Negative number found: -2\n",
    "check_for_negatives([1, 2, 3, 4])  # Execution complete."
   ]
  },
  {
   "cell_type": "markdown",
   "id": "67e7fea3",
   "metadata": {},
   "source": [
    "##Assigment 11"
   ]
  },
  {
   "cell_type": "code",
   "execution_count": 23,
   "id": "5ceb3273",
   "metadata": {},
   "outputs": [
    {
     "name": "stdout",
     "output_type": "stream",
     "text": [
      "Error: An error occurred in risky_function.\n",
      "Execution complete.\n"
     ]
    }
   ],
   "source": [
    "def risky_function():\n",
    "    raise ValueError(\"An error occurred in risky_function.\")\n",
    "\n",
    "def safe_function():\n",
    "    try:\n",
    "        risky_function()\n",
    "    except ValueError as e:\n",
    "        print(f\"Error: {e}\")\n",
    "    finally:\n",
    "        print(\"Execution complete.\")\n",
    "\n",
    "safe_function()  # Error: An error occurred in risky_function."
   ]
  },
  {
   "cell_type": "markdown",
   "id": "c80a1f06",
   "metadata": {},
   "source": [
    "##Assignment 12"
   ]
  },
  {
   "cell_type": "code",
   "execution_count": 24,
   "id": "13f95eb5",
   "metadata": {},
   "outputs": [
    {
     "name": "stdout",
     "output_type": "stream",
     "text": [
      "Execution complete.\n",
      "5.0\n",
      "Error: division by zero\n",
      "Execution complete.\n",
      "None\n"
     ]
    }
   ],
   "source": [
    "class Calculator:\n",
    "    def divide(self, a, b):\n",
    "        try:\n",
    "            result = a / b\n",
    "        except ZeroDivisionError as e:\n",
    "            print(f\"Error: {e}\")\n",
    "            result = None\n",
    "        finally:\n",
    "            print(\"Execution complete.\")\n",
    "        return result\n",
    "\n",
    "calc = Calculator()\n",
    "print(calc.divide(10, 2))  # 5.0\n",
    "print(calc.divide(10, 0))  # None"
   ]
  },
  {
   "cell_type": "markdown",
   "id": "579e11ac",
   "metadata": {},
   "source": [
    "##Assignment 13"
   ]
  },
  {
   "cell_type": "code",
   "execution_count": 25,
   "id": "0aede08e",
   "metadata": {},
   "outputs": [
    {
     "name": "stdout",
     "output_type": "stream",
     "text": [
      "Error: invalid literal for int() with base 10: 'three'\n",
      "Execution complete.\n",
      "None\n",
      "Execution complete.\n",
      "[1, 2, 3, 4]\n"
     ]
    }
   ],
   "source": [
    "def convert_to_integers(lst):\n",
    "    integers = []\n",
    "    try:\n",
    "        for item in lst:\n",
    "            integers.append(int(item))\n",
    "    except ValueError as e:\n",
    "        print(f\"Error: {e}\")\n",
    "        integers = None\n",
    "    finally:\n",
    "        print(\"Execution complete.\")\n",
    "    return integers\n",
    "\n",
    "print(convert_to_integers(['1', '2', 'three', '4']))  # None\n",
    "print(convert_to_integers(['1', '2', '3', '4']))  # [1, 2, 3, 4]"
   ]
  },
  {
   "cell_type": "markdown",
   "id": "16f6890b",
   "metadata": {},
   "source": [
    "##Assignment 14"
   ]
  },
  {
   "cell_type": "code",
   "execution_count": 26,
   "id": "a910d699",
   "metadata": {},
   "outputs": [
    {
     "name": "stdout",
     "output_type": "stream",
     "text": [
      "Error: invalid literal for int() with base 10: 'three'\n",
      "Execution complete.\n",
      "None\n",
      "Execution complete.\n",
      "[1, 2, 3, 4]\n"
     ]
    }
   ],
   "source": [
    "def convert_with_comprehension(lst):\n",
    "    try:\n",
    "        integers = [int(item) for item in lst]\n",
    "    except ValueError as e:\n",
    "        print(f\"Error: {e}\")\n",
    "        integers = None\n",
    "    finally:\n",
    "        print(\"Execution complete.\")\n",
    "    return integers\n",
    "\n",
    "print(convert_with_comprehension(['1', '2', 'three', '4']))  # None\n",
    "print(convert_with_comprehension(['1', '2', '3', '4']))  # [1, 2, 3, 4]"
   ]
  },
  {
   "cell_type": "markdown",
   "id": "bb2e9aa1",
   "metadata": {},
   "source": [
    "##Assignment 15"
   ]
  },
  {
   "cell_type": "code",
   "execution_count": 27,
   "id": "3086e5eb",
   "metadata": {},
   "outputs": [],
   "source": [
    "def write_strings_to_file(strings, filename):\n",
    "    try:\n",
    "        file = open(filename, 'w')\n",
    "        for string in strings:\n",
    "            file.write(string + '\\n')\n",
    "    except IOError as e:\n",
    "        print(f\"Error: {e}\")\n",
    "    finally:\n",
    "        try:\n",
    "            file.close()\n",
    "        except NameError:\n",
    "            pass\n",
    "\n",
    "write_strings_to_file(['Hello', 'World'], 'output.txt')"
   ]
  }
 ],
 "metadata": {
  "kernelspec": {
   "display_name": "venv (3.13.5)",
   "language": "python",
   "name": "python3"
  },
  "language_info": {
   "codemirror_mode": {
    "name": "ipython",
    "version": 3
   },
   "file_extension": ".py",
   "mimetype": "text/x-python",
   "name": "python",
   "nbconvert_exporter": "python",
   "pygments_lexer": "ipython3",
   "version": "3.13.5"
  }
 },
 "nbformat": 4,
 "nbformat_minor": 5
}
