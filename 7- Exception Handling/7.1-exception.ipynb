{
 "cells": [
  {
   "cell_type": "markdown",
   "id": "c94414a5",
   "metadata": {},
   "source": [
    "## Understandig Exceptions"
   ]
  },
  {
   "cell_type": "markdown",
   "id": "d4c6703f",
   "metadata": {},
   "source": [
    "##Exception handling in Python allows you to handle errors gracefully and take corrective acions without stopping the execution of the program. This lesson will cover the basics of exceptions, including how o use try, except,else,and finally blocks"
   ]
  },
  {
   "cell_type": "code",
   "execution_count": 1,
   "id": "82b9cbf6",
   "metadata": {},
   "outputs": [],
   "source": [
    "a=10"
   ]
  },
  {
   "cell_type": "code",
   "execution_count": 3,
   "id": "2e2c4bb1",
   "metadata": {},
   "outputs": [
    {
     "ename": "NameError",
     "evalue": "name 'b' is not defined",
     "output_type": "error",
     "traceback": [
      "\u001b[31m---------------------------------------------------------------------------\u001b[39m",
      "\u001b[31mNameError\u001b[39m                                 Traceback (most recent call last)",
      "\u001b[36mCell\u001b[39m\u001b[36m \u001b[39m\u001b[32mIn[3]\u001b[39m\u001b[32m, line 2\u001b[39m\n\u001b[32m      1\u001b[39m \u001b[38;5;66;03m#Name error\u001b[39;00m\n\u001b[32m----> \u001b[39m\u001b[32m2\u001b[39m a=\u001b[43mb\u001b[49m\n",
      "\u001b[31mNameError\u001b[39m: name 'b' is not defined"
     ]
    }
   ],
   "source": [
    "#Name error\n",
    "a=b"
   ]
  },
  {
   "cell_type": "code",
   "execution_count": 4,
   "id": "c49d6037",
   "metadata": {},
   "outputs": [
    {
     "name": "stdout",
     "output_type": "stream",
     "text": [
      "There is an error\n"
     ]
    }
   ],
   "source": [
    "## Exception try ,except block\n",
    "try:\n",
    "    a=b\n",
    "except:\n",
    "    print(\"There is an error\")"
   ]
  },
  {
   "cell_type": "code",
   "execution_count": 5,
   "id": "4f9a4a8c",
   "metadata": {},
   "outputs": [
    {
     "name": "stdout",
     "output_type": "stream",
     "text": [
      "name 'b' is not defined\n"
     ]
    }
   ],
   "source": [
    "try:\n",
    "    a=b\n",
    "except NameError as ex:\n",
    "    print(ex)"
   ]
  },
  {
   "cell_type": "code",
   "execution_count": 6,
   "id": "a82a39a4",
   "metadata": {},
   "outputs": [
    {
     "ename": "ZeroDivisionError",
     "evalue": "division by zero",
     "output_type": "error",
     "traceback": [
      "\u001b[31m---------------------------------------------------------------------------\u001b[39m",
      "\u001b[31mZeroDivisionError\u001b[39m                         Traceback (most recent call last)",
      "\u001b[36mCell\u001b[39m\u001b[36m \u001b[39m\u001b[32mIn[6]\u001b[39m\u001b[32m, line 1\u001b[39m\n\u001b[32m----> \u001b[39m\u001b[32m1\u001b[39m resut=\u001b[32;43m1\u001b[39;49m\u001b[43m/\u001b[49m\u001b[32;43m0\u001b[39;49m\n",
      "\u001b[31mZeroDivisionError\u001b[39m: division by zero"
     ]
    }
   ],
   "source": [
    "resut=1/0"
   ]
  },
  {
   "cell_type": "code",
   "execution_count": 7,
   "id": "236bb322",
   "metadata": {},
   "outputs": [
    {
     "name": "stdout",
     "output_type": "stream",
     "text": [
      "division by zero\n",
      "You cannot divide a number by zero\n"
     ]
    }
   ],
   "source": [
    "try:\n",
    "    result=1/0\n",
    "except ZeroDivisionError as ex:\n",
    "    print(ex)\n",
    "    print(\"You cannot divide a number by zero\")"
   ]
  },
  {
   "cell_type": "code",
   "execution_count": 10,
   "id": "0b069f80",
   "metadata": {},
   "outputs": [
    {
     "name": "stdout",
     "output_type": "stream",
     "text": [
      "name 'b' is not defined\n",
      "There is a name error\n"
     ]
    }
   ],
   "source": [
    "try:\n",
    "    result=1/2\n",
    "    a=b\n",
    "except ZeroDivisionError as ex:\n",
    "    print(ex)\n",
    "    print(\"You cannot divide a number by zero\")\n",
    "except NameError as ex1:\n",
    "    print(ex1)\n",
    "    print(\"There is a name error\")"
   ]
  },
  {
   "cell_type": "code",
   "execution_count": 15,
   "id": "7d92e4b4",
   "metadata": {},
   "outputs": [],
   "source": [
    "try:\n",
    "    num=int(input(\"Enter a number: \"))\n",
    "    result=10/num\n",
    "except ValueError:\n",
    "       print(\"This is not a valid number\")\n",
    "except ZeroDivisionError:\n",
    "        print(\"You cannot divide a number by zero\")\n",
    "except Exception as ex:\n",
    "        print(ex) "
   ]
  },
  {
   "cell_type": "code",
   "execution_count": 16,
   "id": "6638134c",
   "metadata": {},
   "outputs": [
    {
     "name": "stdout",
     "output_type": "stream",
     "text": [
      "The result is: 0.3125\n"
     ]
    }
   ],
   "source": [
    "## try,except,else block\n",
    "try:\n",
    "    num=int(input(\"Enter a number: \"))\n",
    "    result=10/num\n",
    "except ValueError:\n",
    "       print(\"This is not a valid number\")\n",
    "except ZeroDivisionError:\n",
    "        print(\"You cannot divide a number by zero\")\n",
    "except Exception as ex:\n",
    "        print(ex)\n",
    "else:\n",
    "        print(\"The result is:\",result)"
   ]
  },
  {
   "cell_type": "code",
   "execution_count": 17,
   "id": "64bdd3bb",
   "metadata": {},
   "outputs": [
    {
     "name": "stdout",
     "output_type": "stream",
     "text": [
      "You cannot divide a number by zero\n",
      "This block will always execute\n"
     ]
    }
   ],
   "source": [
    "## try,except,else,finally block\n",
    "try:\n",
    "    num=int(input(\"Enter a number: \"))\n",
    "    result=10/num\n",
    "except ValueError:\n",
    "       print(\"This is not a valid number\")\n",
    "except ZeroDivisionError:\n",
    "        print(\"You cannot divide a number by zero\")\n",
    "except Exception as ex:\n",
    "        print(ex)\n",
    "else:\n",
    "        print(\"The result is:\",result)\n",
    "finally:\n",
    "        print(\"This block will always execute\")"
   ]
  },
  {
   "cell_type": "code",
   "execution_count": 18,
   "id": "3d513a1c",
   "metadata": {},
   "outputs": [
    {
     "name": "stdout",
     "output_type": "stream",
     "text": [
      "[Errno 2] No such file or directory: 'test.txt'\n",
      "The file does not exist\n"
     ]
    }
   ],
   "source": [
    "## File handling and exception handling\n",
    "try:\n",
    "    file=open(\"test.txt\",\"r\")\n",
    "    data=file.read()\n",
    "    print(data)\n",
    "\n",
    "except FileNotFoundError as ex:\n",
    "    print(ex)\n",
    "    print(\"The file does not exist\")\n",
    "\n",
    "finally:\n",
    "    if 'file' in locals() and not closed():\n",
    "        file.close()\n",
    "        print(\"File is closed\")"
   ]
  },
  {
   "cell_type": "code",
   "execution_count": null,
   "id": "3ddbc93b",
   "metadata": {},
   "outputs": [],
   "source": []
  }
 ],
 "metadata": {
  "kernelspec": {
   "display_name": "venv (3.13.5)",
   "language": "python",
   "name": "python3"
  },
  "language_info": {
   "codemirror_mode": {
    "name": "ipython",
    "version": 3
   },
   "file_extension": ".py",
   "mimetype": "text/x-python",
   "name": "python",
   "nbconvert_exporter": "python",
   "pygments_lexer": "ipython3",
   "version": "3.13.5"
  }
 },
 "nbformat": 4,
 "nbformat_minor": 5
}
