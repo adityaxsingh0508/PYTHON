{
 "cells": [
  {
   "cell_type": "code",
   "execution_count": null,
   "id": "958cfdc0",
   "metadata": {},
   "outputs": [],
   "source": []
  },
  {
   "cell_type": "code",
   "execution_count": 4,
   "id": "374b38f3",
   "metadata": {},
   "outputs": [
    {
     "name": "stdout",
     "output_type": "stream",
     "text": [
      "Dont forget to pay the utility bills\n",
      "To Do List remaining\n",
      "-Buy Groceries\n",
      "-Pay Bills\n",
      "-Schedule a meeting\n",
      "-Go For a Run\n"
     ]
    }
   ],
   "source": [
    "## Example1\n",
    "to_do_list=[\"Buy Groceries\",\"Clean The house\",\"Pay Bills\"]\n",
    "\n",
    "## Adding to task\n",
    "to_do_list.append(\"Schedule a meeting\")\n",
    "to_do_list.append(\"Go For a Run\")\n",
    "\n",
    "##Remove a task\n",
    "to_do_list.remove(\"Clean The house\")\n",
    "\n",
    "##checking if its there in the list\n",
    "if \"Pay Bills\" in to_do_list:\n",
    "    print(\"Dont forget to pay the utility bills\")\n",
    "\n",
    "print(\"To Do List remaining\")\n",
    "for task in to_do_list:\n",
    "    print(f\"-{task}\")"
   ]
  },
  {
   "cell_type": "code",
   "execution_count": 5,
   "id": "4cac6793",
   "metadata": {},
   "outputs": [
    {
     "name": "stdout",
     "output_type": "stream",
     "text": [
      "Average Grade : 88.00\n",
      "Highest Grade: 95\n",
      "Lowest Grade: 78\n"
     ]
    }
   ],
   "source": [
    "## Organinizing student grades\n",
    "##Example 2\n",
    "\n",
    "grades=[85, 92, 78, 90, 88]\n",
    "\n",
    "##adding a new grade\n",
    "grades.append(95)\n",
    "\n",
    "##calculating the average grade\n",
    "average_grade =sum(grades) / len(grades)\n",
    "print(f\"Average Grade : {average_grade:.2f}\")\n",
    "\n",
    "##Finding the highest and lowest grades\n",
    "\n",
    "highest_grade = max(grades)\n",
    "lowest_grade = min(grades)\n",
    "print(f\"Highest Grade: {highest_grade}\")\n",
    "print(f\"Lowest Grade: {lowest_grade}\")"
   ]
  },
  {
   "cell_type": "code",
   "execution_count": 6,
   "id": "bef61c6b",
   "metadata": {},
   "outputs": [
    {
     "name": "stdout",
     "output_type": "stream",
     "text": [
      "oranges are in stock.\n",
      "Inventory List:\n",
      " - apples\n",
      " - oranges\n",
      " - grapes\n",
      " - strawberries\n"
     ]
    }
   ],
   "source": [
    "## Managing an inventory\n",
    "##Example 3\n",
    "\n",
    "inventory = [\"apples\", \"bananas\", \"oranges\", \"grapes\"]\n",
    "\n",
    "## Adding a new item\n",
    "inventory.append(\"strawberries\")\n",
    "\n",
    "## Removing an item that is out of stock\n",
    "inventory.remove(\"bananas\")\n",
    "\n",
    "##Checking if an item is in stock\n",
    "item = \"oranges\"\n",
    "if item in inventory:\n",
    "    print(f\"{item} are in stock.\")\n",
    "else:\n",
    "    print(f\"(item) are out of stock.\")\n",
    "\n",
    "## Printing the inventory\n",
    "print(\"Inventory List:\")\n",
    "for item in inventory:\n",
    "    print (f\" - {item}\")\n"
   ]
  },
  {
   "cell_type": "code",
   "execution_count": null,
   "id": "45df2efa",
   "metadata": {},
   "outputs": [],
   "source": []
  }
 ],
 "metadata": {
  "kernelspec": {
   "display_name": "venv",
   "language": "python",
   "name": "python3"
  },
  "language_info": {
   "codemirror_mode": {
    "name": "ipython",
    "version": 3
   },
   "file_extension": ".py",
   "mimetype": "text/x-python",
   "name": "python",
   "nbconvert_exporter": "python",
   "pygments_lexer": "ipython3",
   "version": "3.12.0"
  }
 },
 "nbformat": 4,
 "nbformat_minor": 5
}
